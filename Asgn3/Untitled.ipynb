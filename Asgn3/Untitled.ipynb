{
 "cells": [
  {
   "cell_type": "code",
   "execution_count": 1,
   "id": "be5f9cb0-f241-4f91-ad56-ce321efbafea",
   "metadata": {},
   "outputs": [],
   "source": [
    "import datetime\n",
    "import pandas as pd"
   ]
  },
  {
   "cell_type": "code",
   "execution_count": 2,
   "id": "304b4997-d523-42cb-9f3b-b2bb568414b1",
   "metadata": {},
   "outputs": [
    {
     "name": "stdout",
     "output_type": "stream",
     "text": [
      "27-05-2470 12:20:01\n"
     ]
    }
   ],
   "source": [
    "timestamp = 15791179801\n",
    "value = datetime.datetime.fromtimestamp(timestamp)\n",
    "print(f'{value:%d-%m-%Y %H:%M:%S}')"
   ]
  },
  {
   "cell_type": "code",
   "execution_count": 3,
   "id": "4aef268c-c4f6-4fd2-8943-a48d3fabcdf5",
   "metadata": {},
   "outputs": [],
   "source": [
    "# with open('weather_data_2sites.csv') as h:\n",
    "    \n",
    "#     print(h.readlines(1000))"
   ]
  },
  {
   "cell_type": "code",
   "execution_count": 4,
   "id": "af876f50-8d51-4416-8e4e-ba611ccffc20",
   "metadata": {},
   "outputs": [
    {
     "ename": "SyntaxError",
     "evalue": "invalid syntax (Temp/ipykernel_3964/2911301467.py, line 3)",
     "output_type": "error",
     "traceback": [
      "\u001b[1;36m  File \u001b[1;32m\"C:\\Users\\KHADGA~1\\AppData\\Local\\Temp/ipykernel_3964/2911301467.py\"\u001b[1;36m, line \u001b[1;32m3\u001b[0m\n\u001b[1;33m    date_parser=(\"lambda\", \"x:\", \"pd.to_datetime(x,format\", \"=\", \"\"%d-%m-%Y\", \"%H:%M:%S\")\")\u001b[0m\n\u001b[1;37m                                                                      ^\u001b[0m\n\u001b[1;31mSyntaxError\u001b[0m\u001b[1;31m:\u001b[0m invalid syntax\n"
     ]
    }
   ],
   "source": [
    "# datetime.datetime.\n",
    "date_parser=lambda x: datetime.strptime(x, \"%d-%m-%Y %H:%M:%S\")\n",
    ",date_parser= lambda x: pd.to_datetime(x,format = \"%d-%m-%Y %H:%M:%S\")\n",
    "parse_dates=['timestamp']\n",
    "df[\"Date\"] = pd.to_datetime(df[\"Date\"]).dt.strftime('%Y-%m-%d')"
   ]
  },
  {
   "cell_type": "code",
   "execution_count": 89,
   "id": "74a4dfab-d434-43b6-a5e5-3ed543c9733d",
   "metadata": {},
   "outputs": [
    {
     "name": "stdout",
     "output_type": "stream",
     "text": [
      "             timestamp  temperature_site1  humidity_site1  temperature_site2  \\\n",
      "0  01/03/2018 00:00:00                NaN             NaN               23.1   \n",
      "1  01/03/2018 00:30:00               21.0            68.0               22.9   \n",
      "2  01/03/2018 01:00:00               20.0            73.0               23.0   \n",
      "3  01/03/2018 01:30:00               20.0            73.0               22.9   \n",
      "4  01/03/2018 02:00:00               20.0            73.0               22.4   \n",
      "\n",
      "   humidity_site2  \n",
      "0            61.6  \n",
      "1            61.1  \n",
      "2            61.6  \n",
      "3            62.5  \n",
      "4            63.4  \n"
     ]
    }
   ],
   "source": [
    "df = pd.read_csv('weather_data_2sites.csv',index_col=0,parse_dates=['timestamp'])\n",
    "# df['timestamp'] = pd.to_datetime(df['timestamp']).dt.strftime(\"%d/%m/%Y %H:%M:%S\")\n",
    "df['timestamp'] = df['timestamp'].dt.strftime(\"%d/%m/%Y %H:%M:%S\")\n",
    "# df.head(),df.info()\n",
    "# df.head()\n",
    "\n",
    "# df.to_csv('weather_data_2sites_cleaned.csv')\n",
    "print(df.head())\n",
    "# df.reset_index(drop=True,inplace=True),df.head(),"
   ]
  },
  {
   "cell_type": "code",
   "execution_count": 42,
   "id": "e1fd1040-9be1-4bf0-8af3-badb6a9e7221",
   "metadata": {},
   "outputs": [
    {
     "data": {
      "text/plain": [
       "'01/03/2018 00:30:00'"
      ]
     },
     "execution_count": 42,
     "metadata": {},
     "output_type": "execute_result"
    }
   ],
   "source": [
    "k = df['timestamp']\n",
    "k[1]"
   ]
  },
  {
   "cell_type": "code",
   "execution_count": null,
   "id": "bdd3396f-261b-415c-a41e-5472c2de4c80",
   "metadata": {},
   "outputs": [],
   "source": []
  },
  {
   "cell_type": "code",
   "execution_count": 86,
   "id": "189958a3-7854-4dab-ac60-0749b6281cc3",
   "metadata": {},
   "outputs": [
    {
     "data": {
      "text/plain": [
       "temperature_site1       AxesSubplot(0.125,0.125;0.168478x0.755)\n",
       "humidity_site1       AxesSubplot(0.327174,0.125;0.168478x0.755)\n",
       "temperature_site2    AxesSubplot(0.529348,0.125;0.168478x0.755)\n",
       "humidity_site2       AxesSubplot(0.731522,0.125;0.168478x0.755)\n",
       "dtype: object"
      ]
     },
     "execution_count": 86,
     "metadata": {},
     "output_type": "execute_result"
    },
    {
     "data": {
      "image/png": "[encoded data removed]",
      "text/plain": [
       "<Figure size 1080x576 with 4 Axes>"
      ]
     },
     "metadata": {
      "needs_background": "light"
     },
     "output_type": "display_data"
    }
   ],
   "source": [
    "df = pd.read_csv('weather_data_2sites.csv',index_col=0,parse_dates=['timestamp'])\n",
    "df.plot(x='timestamp', figsize= [15,8],subplots=True,ylabel='Value',kind='box',sharey=True)\n"
   ]
  },
  {
   "cell_type": "code",
   "execution_count": null,
   "id": "adbb9a1b-ee8c-4673-aed3-b0336b6ff6c7",
   "metadata": {},
   "outputs": [],
   "source": []
  }
 ],
 "metadata": {
  "kernelspec": {
   "display_name": "Python 3 (ipykernel)",
   "language": "python",
   "name": "python3"
  },
  "language_info": {
   "codemirror_mode": {
    "name": "ipython",
    "version": 3
   },
   "file_extension": ".py",
   "mimetype": "text/x-python",
   "name": "python",
   "nbconvert_exporter": "python",
   "pygments_lexer": "ipython3",
   "version": "3.8.8"
  }
 },
 "nbformat": 4,
 "nbformat_minor": 5
}
